{
 "cells": [
  {
   "cell_type": "markdown",
   "id": "38f46df9-af30-4019-8b1a-84e66825c8a7",
   "metadata": {},
   "source": [
    "# SEGMETNADO CLIENTES DE UN NEGOCIO"
   ]
  },
  {
   "cell_type": "markdown",
   "id": "93e5eec9-c12c-4101-9ccd-950f36fd1e3f",
   "metadata": {},
   "source": [
    "# Segmentando Clientes con K-means - Centroides - cluster conocido y desconocido\n",
    "## Para determinar cluster codo de jambú (wcss)\n",
    "## Hacer proceso calculando cluster y luego con 3\n",
    "## deteccion de outliers   Rocio Chavez\n",
    "## Normalización.\n",
    "## Determinar el numero de cluster.\n",
    "## Matriz de disperción con PCA\n",
    "## Análisis de componentes principales.\n",
    "## ** Remover outliers ante de aplicar ** k-means\n",
    "## Normalizar\n",
    "## análisis de cluster (cohesion - Separación) Inercia\n",
    "## análisis de cluster (centro de gravedad total)  - Inercia total"
   ]
  },
  {
   "cell_type": "markdown",
   "id": "e6c79700-481b-4bc0-9207-d5ce18621940",
   "metadata": {},
   "source": [
    "# 1.- CARGAR LIBRERIAS"
   ]
  },
  {
   "cell_type": "markdown",
   "id": "5324170c-7915-4b27-981f-149737b290dd",
   "metadata": {},
   "source": [
    "# 2.- CARGAR ARCHIVO"
   ]
  },
  {
   "cell_type": "markdown",
   "id": "1ce66119-bd44-4187-8911-483596aff560",
   "metadata": {},
   "source": [
    "# 3.- ENTENDIENDO LOS DATOS\n",
    "## 3.1- shape\n",
    "## 3.2- info\n",
    "## 3.3- describe\n",
    "## 3.4- isnull"
   ]
  },
  {
   "cell_type": "markdown",
   "id": "65f164f8-6563-42f2-a21c-4cd8e2f07531",
   "metadata": {},
   "source": [
    "# 4.- TRATAMIENTO DE NULOS O VALORES FALTANTES\n",
    "## 4.1- Eliminar filas y/o columnas con muchos nulos\n",
    "## 4.2- Reemplazar con un dato determinado (media, moda, mediana, otro) \n",
    "## 3.3- Borrar : dropna \n",
    "## 3.4- extensión was_missing con imputación simple SimpleImputer \n",
    "## 3.5- Revisar impacto de los nulos en relación al original con : Se deben dividir los datos con split OPCIONAL\n",
    "            model = RandomForestRegressor(n_estimators=10, random_state=0)\n",
    "            model.fit(X_train, y_train)\n",
    "            preds = model.predict(X_valid)\n",
    "            mean_absolute_error(y_valid, preds)"
   ]
  },
  {
   "cell_type": "markdown",
   "id": "e134e176-4ebc-4d1c-a1ee-a8776fac2b70",
   "metadata": {
    "jp-MarkdownHeadingCollapsed": true
   },
   "source": [
    "# 5 RENOMBRAMIENTO DE VARIABLES/COLUMNAS SI ES NECESARIO"
   ]
  },
  {
   "cell_type": "markdown",
   "id": "15e7da4d-5cfc-413a-bd74-398177e41c78",
   "metadata": {},
   "source": [
    "# 6.- ENTENDIENDO LOS DATOS\n",
    "## 3.1- shape\n",
    "## 3.2- info\n",
    "## 3.3- describe\n",
    "## 3.4- isnull"
   ]
  },
  {
   "cell_type": "markdown",
   "id": "f6e1f183-9026-4c8e-8f6c-3a953467b508",
   "metadata": {},
   "source": [
    "# 7.- REVISAR NUMEROS VALORES EXTRAÑOS : describe\n",
    "##       Negativos\n",
    "##       outliers \n",
    "##"
   ]
  },
  {
   "cell_type": "markdown",
   "id": "3b1c7318-aa6e-4326-93f7-b7953396048d",
   "metadata": {},
   "source": [
    "# 8.- REVISAR NUMEROS VALORES ANOMALOS CON GRAFICOS:\n",
    "##       boxplot"
   ]
  },
  {
   "cell_type": "markdown",
   "id": "eaa9edad-f07c-49b2-89f9-a890c9cbd5af",
   "metadata": {},
   "source": [
    "# 9.- TRATAMIENTO DE VALORES EXTRAÑOS.\n",
    "##       Negativos\n",
    "##       outliers (se pueden analizar luego de normalizar con metodo PCA (Análisis de Componentes Principales)\n",
    "##       PCA : se suele ocupar cuando hay muchas variables."
   ]
  },
  {
   "cell_type": "markdown",
   "id": "4236cd61-7130-4838-9047-7188653d8b0a",
   "metadata": {},
   "source": [
    "# 10.- SI EXISTEN OUTLIER, TRATAR DE IDENTIFICAR :\n",
    "##     - boxplot por variable continua. \n",
    "##     - Determinar distribución de datos por cuartil (np.min(edades),np.quantile(datos, 0.25,\n",
    "##     - boxplot por alguna variable categorica nominal u ordinal\n",
    "##     - Determinar que hacer con esos outliers"
   ]
  },
  {
   "cell_type": "markdown",
   "id": "1c5fc340-26c7-46ec-a787-1b44ed58752f",
   "metadata": {},
   "source": [
    "# 11.- SELECCION DE VRIABLES / COLUMNAS FINALES\n",
    "##      - agregar columnas faltantes si es necesario\n",
    "##      - Borrar columnas sobrantes si es necesario."
   ]
  },
  {
   "cell_type": "markdown",
   "id": "b21fed26-9b56-47d6-aeb8-cca48f6b741e",
   "metadata": {},
   "source": [
    "# 12.- TECNICA RFM\n",
    "##    R = recencia\n",
    "##    F = frecuencia\n",
    "##    M = monetario\n",
    "##    Se debe determinar el perido de tiempo de análisis. Hasta hoy o entre la mínima y máxima fecha del conjunto de datos\n"
   ]
  },
  {
   "cell_type": "markdown",
   "id": "a56a7a82-02cf-4a7e-8880-bf64f415ff47",
   "metadata": {},
   "source": [
    "# 13: CREAR ESTRUCTURA AGREGADA POR LA VARIABLE QUE SE QUIERA SEGMENTAR\n",
    "##     Variable a segmentar = CLIENTES o ID Cliente o el que corresponda que lo individualice"
   ]
  },
  {
   "cell_type": "markdown",
   "id": "74466fdd-8829-4c71-932c-4762f5b0f464",
   "metadata": {},
   "source": [
    "# 14.- ENTENDIENDO LOS DATOS DE LA NUEVA ESTRUCTURA.\n",
    "##      Nombre sugerido : <nombre_archivo_inicial>_rfm\n",
    "## 3.1- shape\n",
    "## 3.2- info\n",
    "## 3.3- describe\n",
    "## 3.4- isnull"
   ]
  },
  {
   "cell_type": "markdown",
   "id": "7954b2ea-9ea0-4184-be95-22c9686fe9ca",
   "metadata": {},
   "source": [
    "# 15 . ENTENDIENDO LOS DATOS DE LA NUEVA ESTRUCTURA. \n",
    "#      GENERAR TABLA DE FRECUENCIA PARA DETERMINAR PARETO (20/80)\n",
    "##      - se debe hacer a partir de la tabla nueva en relación al monetario.\n",
    "##      - Identificar el 20% de los clientes que me dan el 80% de los ingresos.\n",
    "##      - Graficar e identificar el 80/20"
   ]
  },
  {
   "cell_type": "markdown",
   "id": "226dc6ba-ffb3-45b9-9130-0d3fa17dc22a",
   "metadata": {},
   "source": [
    "# 16.- ENTENDIENDO LOS DATOS DE LA NUEVA ESTRUCTURA\n",
    "#      DESCRIPCION VISUAL :\n",
    "##     - boxplot (plt, sns) |B1|B2|H1|H2| subplot\n",
    "##     - hist (plt, sns) bins???, color='<color>', ec='<color>'"
   ]
  },
  {
   "cell_type": "markdown",
   "id": "e9ead98d-671a-4fdc-996b-8850754c8b56",
   "metadata": {},
   "source": [
    "# 17.- ENTENDIENDO LOS DATOS DE LA NUEVA ESTRUCTURA\n",
    "#      DESCRIPCION VISUAL :\n",
    "##     - scatter (plt, sns) |S1|S2| subplot\n",
    "##     "
   ]
  },
  {
   "cell_type": "markdown",
   "id": "9f178854-e29c-4e79-9cbe-40dde7b63744",
   "metadata": {},
   "source": [
    "# 18 ENTENDIENDO LOS DATOS DE LA NUEVA ESTRUCTURA\n",
    "#      DETERMINAR QUE HACER CON OUTLIERS\n",
    "##    - Determinar sin son outliers con un confianza del 90%, usando Distancia Mahalanobis Robusta\n",
    "##    - De acuerdo a esto, determinar si dejar o eliminar.\n",
    "#    - O Modificar el nivel de confianza para no ser considerado como Outliers"
   ]
  },
  {
   "cell_type": "markdown",
   "id": "7fdc333d-38d0-4d25-97f0-d87e1ded7abe",
   "metadata": {},
   "source": [
    "# 19 ENTENDIENDO LOS DATOS DE LA NUEVA ESTRUCTURA \n",
    "#      VISUALMENTE :\n",
    "##    - pairplot\n",
    "##    - validar con graficos con punto 17."
   ]
  },
  {
   "cell_type": "markdown",
   "id": "ac8323fb-9a53-4098-a78c-1d0982c417cf",
   "metadata": {},
   "source": [
    "# 20 .- ENTENDIENDO LOS DATOS DE LA NUEVA ESTRUCTURA\n",
    "#       MATRIZ DE CORRELACION (Pearson, Spearman o Kendall\n",
    "##       Pearson  : \n",
    "##       Spearmen :  \n",
    "##       Kendall  : \n",
    "##      - Pandas : .corr()\n",
    "##      - Numpy  : .corrcoef(datos)\n",
    "##      - graficar con heatmap ambas en formato |P1|N1| subplot\n",
    "##      - parametros (cmap='coldwarm', fmt='.2f',annot=True)"
   ]
  },
  {
   "cell_type": "markdown",
   "id": "85af1ec7-6453-42fa-bfdf-47766d0e727e",
   "metadata": {},
   "source": [
    "# 21.- TRATAMIENTO DE DATOS PARA : TRANSFORMACION LOGARITMICA PARA ESTABILIZAR LA VARIANZA\n",
    "#      Motivo :   Manejo de variables sesgadas\n",
    "#                 Reducción de la influencia de valores atípicos\n",
    "#      Función : np.log1p(datos_rfm)\n",
    "#      Análisis previo : Determinar si existe sesgo o valores atípicos (outliers)\n",
    "#      "
   ]
  },
  {
   "cell_type": "markdown",
   "id": "f006e33f-9928-4a63-a1eb-3205942e69b6",
   "metadata": {},
   "source": [
    "# 22. TRATAMIENTO DE DATOS - NORMALIZACION - STANDARIZACION - ESCALAMIENTO.\n",
    "##     - puede ser en N(0,1)  con StandardScaler\n",
    "##     - puede ser en [0,1]   con MinMaxScaler\n",
    "##     - (x-min)/(max-min) manual\n",
    "##     - datos normalizados quedan en un array, hay que llevarlo a un df"
   ]
  },
  {
   "cell_type": "markdown",
   "id": "9a492c72-1d1d-4ba3-ae1d-4212de6041e4",
   "metadata": {},
   "source": [
    "# 23.- REVISANDO DATOS VISUALMENTE\n",
    "#      DESCRIPCION VISUAL :\n",
    "##     - boxplot (plt, sns) |B1|B2|H1|H2| subplot\n",
    "##     - hist (plt, sns) bins???, color='<color>', ec='<color>'\n"
   ]
  },
  {
   "cell_type": "markdown",
   "id": "2389c2d6-f7ce-4692-a37c-9aefaf64e4b6",
   "metadata": {},
   "source": [
    "# 24.- ENTENDIENDO LOS DATOS DE LA NUEVA ESTRUCTURA\n",
    "#      DESCRIPCION VISUAL :\n",
    "##     - scatter (plt, sns) |S1|S2| subplot\n",
    "##     - Analizar si se pueden ver grupos de puntos.\n",
    "##     "
   ]
  },
  {
   "cell_type": "markdown",
   "id": "52a1639a-2bed-44a4-876d-a1aa113afa69",
   "metadata": {},
   "source": [
    "# 24.1 ELIMNADO OUTLIERS - Método IsaolationTree\n",
    "import numpy as np\n",
    "from sklearn.ensemble import IsolationForest\n",
    "\n",
    "ventas_array = ventas_norm_df[['recency','frecuency','monetary']].values\n",
    "ventas_array.size\n",
    "\n",
    "# Definir los valores de contaminación dentro del rango válido\n",
    "c = [0.01, 0.05, 0.1]\n",
    "\n",
    "# Inicializar la matriz de resultados\n",
    "resultados = np.zeros((len(c), ventas_array.size//3))\n",
    "\n",
    "# Iterar sobre los valores de contaminación\n",
    "for i in range(len(c)):\n",
    "    # Crear y entrenar el modelo IsolationForest\n",
    "    modelo = IsolationForest(contamination=c[i]).fit(ventas_array)\n",
    "    \n",
    "    # Predecir los valores atípicos y almacenarlos en la matriz de resultados\n",
    "    resultados[i] = modelo.predict(ventas_array)\n",
    "    columna='outlier-'+ str(c[i])\n",
    "    ventas_norm_df[columna] = resultados[i]\n",
    "                                  \n",
    "suma_negativos_por_fila = np.sum(resultados < 0, axis=1)\n",
    "\n",
    "ventas_norm_df[ventas_norm_df['outlier-0.01']==-1]\n",
    "#df.drop(df.loc[df['Valor'] < 0].index)\n",
    "\n",
    "plt.set_cmap('jet')\n",
    "fig = plt.figure(figsize=(13,4))\n",
    "\n",
    "for i in range(len(c)):\n",
    "    ax = fig.add_subplot(1,3,i+1)\n",
    "    ax.scatter(ventas_array[resultados[i]==-1][:, 0],\n",
    "               ventas_array[resultados[i]==-1][:, 1],\n",
    "               c='green',s=200, marker='s')\n",
    "    ax.scatter(ventas_array[:, 0],\n",
    "               ventas_array[:, 1],\n",
    "               c=range(ventas_array.size//3), marker='x', s=500, alpha=0.6)\n",
    "    ax.set_title('Comportamiento : %0.2f' % c[i], size = 18, color = 'purple')\n",
    "    ax.set_ylabel('Monetary ($) ', size=10)\n",
    "    ax.set_xlabel('Dias Recencia', size = 14)\n",
    "\n",
    "plt.show()\n"
   ]
  },
  {
   "cell_type": "markdown",
   "id": "7da0548d-40a0-4c05-8ce4-f597d5e4a173",
   "metadata": {},
   "source": [
    "# 25 CLUSTERIZANDO K-means\n",
    "##   cluster inicial = 4"
   ]
  },
  {
   "cell_type": "markdown",
   "id": "a3c70793-d7f5-420e-92c7-49348378c2ed",
   "metadata": {},
   "source": [
    "# 26.- DETERMINANDO EL MEJOR NUMERO DE CLUSTER. SUPONIENDO QUE NO SABEMOS LA CANTIDAD OPTIMA DE CLUSTER\n",
    "##       Para determinar cluster codo de jambú (wcss)\n",
    "##       Probar k-means desde c = 1 hasta 10\n",
    "##       almacenar la metrica kmeans.inertia_ en un lista\n",
    "##       graficar para determinar el codo y extraer el numero de cluster.\n",
    "##       Generar Clusters a partir de este número\n",
    "wcss = []\n",
    "for i in range(1,11):\n",
    "    kmeans1 = KMeans (n_clusters = i, random_state= 1, n_init='auto', max_iter = 300)\n",
    "    kmeans1.fit(ventas_norm_df)\n",
    "    wcss.append(kmeans1.inertia_)\n",
    "plt.plot(range(1,11),wcss)"
   ]
  },
  {
   "cell_type": "markdown",
   "id": "f10ad6c3-73d4-4e91-ac33-9b98f64bb16d",
   "metadata": {},
   "source": [
    "# 27.- APLICAR CLUSTERING PARA CLUSTER CALCULADO\n",
    "##       Generar Clusters a partir de este número."
   ]
  },
  {
   "cell_type": "markdown",
   "id": "dce7edd5-d3e0-4ff4-bc2f-742512c7495f",
   "metadata": {},
   "source": [
    "# 28.- CONCANTENAR CLUSTER A DATOS NORMALIZADOS"
   ]
  },
  {
   "cell_type": "markdown",
   "id": "59e900a9-fd5e-4d24-9689-b49f021ed8e8",
   "metadata": {},
   "source": [
    "# 29.- REVISANDO DATOS VISUALMENTE. CONSIDERANDO EL PARAMETRO PARA CLUSTER\n",
    "#      DESCRIPCION VISUAL :\n",
    "##     - scatter (plt, sns) |B1|B2|H1|H2| subplot\n",
    "##     - parametro para scatter plt : c=nombre de columna\n",
    "##     - parametro para scatter sns : hue=nombre de columna\n",
    "##     - graficar centroides (kmeans.cluster_centers_[x,y]\n"
   ]
  },
  {
   "cell_type": "markdown",
   "id": "a453c423-8271-45f6-b5a8-2aa179fa8d91",
   "metadata": {},
   "source": [
    "# 30.- CONCANTENAR CLUSTER A DATOS RFM"
   ]
  },
  {
   "cell_type": "markdown",
   "id": "cea5b326-2a04-472c-9bc5-225e22af926b",
   "metadata": {},
   "source": [
    "# 31.- GENERAR TABLA AGRUPADA POR CLUSTER CON :\n",
    "##     Recencia : promedio\n",
    "##     Frecuencia : promedio\n",
    "##     Monetario  : Suma\n",
    "##     Agregar columna con Monto Acumulado\n",
    "##     Agregar columna con Monto %\n",
    "##     SE debe visualizar pareto fácilemente"
   ]
  },
  {
   "cell_type": "markdown",
   "id": "8f1b3064-f3af-49b5-b00b-10057a4ad267",
   "metadata": {},
   "source": [
    "# 32.- GRAFICAR BARRAR POR CLUSTER :\n",
    "##     sns.barplot(data=ventas_rfm,x='cluster',y=variable)"
   ]
  },
  {
   "cell_type": "markdown",
   "id": "f8ba9819-5a87-4ae8-ad37-e339d6bae411",
   "metadata": {},
   "source": [
    "# 33.- GRAFICO RESUMEN CON PORCENTAJE ACUMULADO POR MONTO"
   ]
  },
  {
   "cell_type": "markdown",
   "id": "faba6d58-9581-4da3-8fb6-e19bd816ae0c",
   "metadata": {},
   "source": [
    "# REPETIR PROCESO PARA CLUSTER CONOCIDOS.\n",
    "##     SOLO SI ES DIFERENTE HACER 26, 27 , 28, 29, 30, 31, 32"
   ]
  },
  {
   "cell_type": "markdown",
   "id": "170058e4-e443-4ed7-b1e4-19c385bec676",
   "metadata": {},
   "source": [
    "# 34.- APLICAR CLUSTERING PARA CLUSTER ASIGNADOS\n",
    "##       Generar Clusters a partir de este número."
   ]
  },
  {
   "cell_type": "markdown",
   "id": "8840519b-9c62-42f7-b4f7-96e8eadd4673",
   "metadata": {},
   "source": [
    "# 35.- CONCANTENAR CLUSTER A DATOS NORMALIZADOS"
   ]
  },
  {
   "cell_type": "markdown",
   "id": "d932852f-d9b7-4333-83c7-99cb6ca174c1",
   "metadata": {},
   "source": [
    "# 36.- REVISANDO DATOS VISUALMENTE. CONSIDERANDO EL PARAMETRO PARA CLUSTER\n",
    "#      DESCRIPCION VISUAL :\n",
    "##     - scatter (plt, sns) |B1|B2|H1|H2| subplot\n",
    "##     - parametro para scatter plt : c=nombre de columna\n",
    "##     - parametro para scatter sns : hue=nombre de columna\n",
    "##     - graficar centroides (kmeans.cluster_centers_[x,y]\n"
   ]
  },
  {
   "cell_type": "markdown",
   "id": "3062aa73-afd7-4fd0-a4c4-2376146f45bb",
   "metadata": {},
   "source": [
    "# 37- CONCANTENAR CLUSTER A DATOS RFM"
   ]
  },
  {
   "cell_type": "markdown",
   "id": "50d5cef0-313b-407e-b699-06abc7a7ead0",
   "metadata": {},
   "source": [
    "# 38.- GENERAR TABLA AGRUPADA POR CLUSTER CON :\n",
    "##     Recencia : promedio\n",
    "##     Frecuencia : promedio\n",
    "##     Monetario  : Suma\n",
    "##     Agregar columna con Monto Acumulado\n",
    "##     Agregar columna con Monto %\n",
    "##     SE debe visualizar pareto fácilemente"
   ]
  },
  {
   "cell_type": "markdown",
   "id": "41819637-5514-4aba-9110-a01336783ef9",
   "metadata": {},
   "source": [
    "# 39.- GRAFICAR BARRAR POR CLUSTER :\n",
    "##     sns.barplot(data=ventas_rfm,x='cluster',y=variable)"
   ]
  },
  {
   "cell_type": "markdown",
   "id": "14d640fa-e517-4f61-a1f0-69adb2697c76",
   "metadata": {},
   "source": [
    "# 40.- GRAFICO RESUMEN CON PORCENTAJE ACUMULADO POR MONTO"
   ]
  },
  {
   "cell_type": "markdown",
   "id": "7e522abb-e457-4a2d-9f8a-38792acb9040",
   "metadata": {},
   "source": [
    "# 41.- GRAFICO RESUMEN CON PORCENTAJE ACUMULADO POR MONTO"
   ]
  },
  {
   "cell_type": "markdown",
   "id": "2415ddef-23ca-4648-ade3-baebf30d82b9",
   "metadata": {},
   "source": []
  }
 ],
 "metadata": {
  "kernelspec": {
   "display_name": "Python 3 (ipykernel)",
   "language": "python",
   "name": "python3"
  },
  "language_info": {
   "codemirror_mode": {
    "name": "ipython",
    "version": 3
   },
   "file_extension": ".py",
   "mimetype": "text/x-python",
   "name": "python",
   "nbconvert_exporter": "python",
   "pygments_lexer": "ipython3",
   "version": "3.11.8"
  }
 },
 "nbformat": 4,
 "nbformat_minor": 5
}
