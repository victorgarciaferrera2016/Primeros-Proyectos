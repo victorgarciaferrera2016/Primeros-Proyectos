{
 "cells": [
  {
   "cell_type": "markdown",
   "id": "3fa4ce3b-cf3a-408d-8d7d-3dd075e4a715",
   "metadata": {},
   "source": [
    "Linear Regression on Kaggle Competition for Houses Prices\n",
    "Datos desde Kaggle"
   ]
  },
  {
   "cell_type": "markdown",
   "id": "c16ec2ef-17be-4d2c-85e5-c4df4caeb231",
   "metadata": {},
   "source": [
    "Paso 1. Definicion del Problema :\n",
    "\n",
    "  Se requeire predecir el precio de las casas a parti de una muestra de datos."
   ]
  },
  {
   "cell_type": "markdown",
   "id": "9843be42-f9a0-4a90-9d34-8877f70dfe40",
   "metadata": {},
   "source": [
    "Paso 2. Comenzar las Obtensión de datos (Importar y cargar )\n",
    "Se toman datos de Kaggle test y train. archivos csv\n",
    "Para poder ejecutar código python de carga de datos , es necesario realizar importación de librerias"
   ]
  },
  {
   "cell_type": "code",
   "execution_count": 7,
   "id": "505b3b81-6fe9-4b02-b55b-fb099ef156fe",
   "metadata": {},
   "outputs": [],
   "source": [
    "#Import Librerias\n",
    "\n",
    "\n",
    "#lote de librerias para majejo de de estructuras de datos y visualización.\n",
    "import numpy              as np\n",
    "import pandas             as pd\n",
    "import matplotlib.pyplot  as plt\n",
    "import seaborn            as sns\n",
    "import random \n",
    "\n",
    "#Lote de Librerias para Preparacion de Datos.\n"
   ]
  },
  {
   "cell_type": "code",
   "execution_count": 38,
   "id": "4130e347-3d37-4f22-8080-3f7232ef41f6",
   "metadata": {},
   "outputs": [],
   "source": [
    "#Lote de Librerias para Preparacion de Datos.\n",
    "\n",
    "from sklearn.preprocessing  import OneHotEncoder, OrdinalEncoder\n",
    "from sklearn.impute         import SimpleImputer\n",
    "from sklearn.compose        import  make_column_transformer\n",
    "from sklearn.model_selection import train_test_split\n"
   ]
  },
  {
   "cell_type": "code",
   "execution_count": 32,
   "id": "16ad422d-6463-4535-a871-995f2d3465e7",
   "metadata": {},
   "outputs": [],
   "source": [
    "#Lote de Librerias para Modelar .\n",
    "\n",
    "from sklearn.linear_model import LinearRegression\n",
    "from sklearn              import metrics\n"
   ]
  },
  {
   "cell_type": "code",
   "execution_count": 33,
   "id": "05ed9f94-d609-4d31-855d-131a4dd8d07f",
   "metadata": {},
   "outputs": [],
   "source": [
    "#configurando la pantalla praa despliegue de datos.\n",
    "\n",
    "pd.set_option('display.max_rows',90)\n",
    "pd.set_option('display.max_columns',90)"
   ]
  },
  {
   "cell_type": "code",
   "execution_count": 34,
   "id": "eb6db01a-f903-49ec-8cbf-8d8352178486",
   "metadata": {},
   "outputs": [
    {
     "name": "stdout",
     "output_type": "stream",
     "text": [
      "<class 'pandas.core.frame.DataFrame'>\n",
      "RangeIndex: 1460 entries, 0 to 1459\n",
      "Data columns (total 81 columns):\n",
      " #   Column         Non-Null Count  Dtype  \n",
      "---  ------         --------------  -----  \n",
      " 0   Id             1460 non-null   int64  \n",
      " 1   MSSubClass     1460 non-null   int64  \n",
      " 2   MSZoning       1460 non-null   object \n",
      " 3   LotFrontage    1201 non-null   float64\n",
      " 4   LotArea        1460 non-null   int64  \n",
      " 5   Street         1460 non-null   object \n",
      " 6   Alley          91 non-null     object \n",
      " 7   LotShape       1460 non-null   object \n",
      " 8   LandContour    1460 non-null   object \n",
      " 9   Utilities      1460 non-null   object \n",
      " 10  LotConfig      1460 non-null   object \n",
      " 11  LandSlope      1460 non-null   object \n",
      " 12  Neighborhood   1460 non-null   object \n",
      " 13  Condition1     1460 non-null   object \n",
      " 14  Condition2     1460 non-null   object \n",
      " 15  BldgType       1460 non-null   object \n",
      " 16  HouseStyle     1460 non-null   object \n",
      " 17  OverallQual    1460 non-null   int64  \n",
      " 18  OverallCond    1460 non-null   int64  \n",
      " 19  YearBuilt      1460 non-null   int64  \n",
      " 20  YearRemodAdd   1460 non-null   int64  \n",
      " 21  RoofStyle      1460 non-null   object \n",
      " 22  RoofMatl       1460 non-null   object \n",
      " 23  Exterior1st    1460 non-null   object \n",
      " 24  Exterior2nd    1460 non-null   object \n",
      " 25  MasVnrType     588 non-null    object \n",
      " 26  MasVnrArea     1452 non-null   float64\n",
      " 27  ExterQual      1460 non-null   object \n",
      " 28  ExterCond      1460 non-null   object \n",
      " 29  Foundation     1460 non-null   object \n",
      " 30  BsmtQual       1423 non-null   object \n",
      " 31  BsmtCond       1423 non-null   object \n",
      " 32  BsmtExposure   1422 non-null   object \n",
      " 33  BsmtFinType1   1423 non-null   object \n",
      " 34  BsmtFinSF1     1460 non-null   int64  \n",
      " 35  BsmtFinType2   1422 non-null   object \n",
      " 36  BsmtFinSF2     1460 non-null   int64  \n",
      " 37  BsmtUnfSF      1460 non-null   int64  \n",
      " 38  TotalBsmtSF    1460 non-null   int64  \n",
      " 39  Heating        1460 non-null   object \n",
      " 40  HeatingQC      1460 non-null   object \n",
      " 41  CentralAir     1460 non-null   object \n",
      " 42  Electrical     1459 non-null   object \n",
      " 43  1stFlrSF       1460 non-null   int64  \n",
      " 44  2ndFlrSF       1460 non-null   int64  \n",
      " 45  LowQualFinSF   1460 non-null   int64  \n",
      " 46  GrLivArea      1460 non-null   int64  \n",
      " 47  BsmtFullBath   1460 non-null   int64  \n",
      " 48  BsmtHalfBath   1460 non-null   int64  \n",
      " 49  FullBath       1460 non-null   int64  \n",
      " 50  HalfBath       1460 non-null   int64  \n",
      " 51  BedroomAbvGr   1460 non-null   int64  \n",
      " 52  KitchenAbvGr   1460 non-null   int64  \n",
      " 53  KitchenQual    1460 non-null   object \n",
      " 54  TotRmsAbvGrd   1460 non-null   int64  \n",
      " 55  Functional     1460 non-null   object \n",
      " 56  Fireplaces     1460 non-null   int64  \n",
      " 57  FireplaceQu    770 non-null    object \n",
      " 58  GarageType     1379 non-null   object \n",
      " 59  GarageYrBlt    1379 non-null   float64\n",
      " 60  GarageFinish   1379 non-null   object \n",
      " 61  GarageCars     1460 non-null   int64  \n",
      " 62  GarageArea     1460 non-null   int64  \n",
      " 63  GarageQual     1379 non-null   object \n",
      " 64  GarageCond     1379 non-null   object \n",
      " 65  PavedDrive     1460 non-null   object \n",
      " 66  WoodDeckSF     1460 non-null   int64  \n",
      " 67  OpenPorchSF    1460 non-null   int64  \n",
      " 68  EnclosedPorch  1460 non-null   int64  \n",
      " 69  3SsnPorch      1460 non-null   int64  \n",
      " 70  ScreenPorch    1460 non-null   int64  \n",
      " 71  PoolArea       1460 non-null   int64  \n",
      " 72  PoolQC         7 non-null      object \n",
      " 73  Fence          281 non-null    object \n",
      " 74  MiscFeature    54 non-null     object \n",
      " 75  MiscVal        1460 non-null   int64  \n",
      " 76  MoSold         1460 non-null   int64  \n",
      " 77  YrSold         1460 non-null   int64  \n",
      " 78  SaleType       1460 non-null   object \n",
      " 79  SaleCondition  1460 non-null   object \n",
      " 80  SalePrice      1460 non-null   int64  \n",
      "dtypes: float64(3), int64(35), object(43)\n",
      "memory usage: 924.0+ KB\n"
     ]
    }
   ],
   "source": [
    "#importar datos\n",
    "\n",
    "df = pd.read_csv('F:/CAPACITACION/MODELO MLEARNING/CURSO DR ARRIGO/Recursos/house-prices-advanced-regression-techniques/train.csv')\n",
    "\n",
    "df.columns\n",
    "df.info()"
   ]
  },
  {
   "cell_type": "code",
   "execution_count": 40,
   "id": "47160568-b4ac-48b8-a7ca-c09966233b78",
   "metadata": {},
   "outputs": [
    {
     "name": "stdout",
     "output_type": "stream",
     "text": [
      "<class 'pandas.core.frame.DataFrame'>\n",
      "RangeIndex: 1460 entries, 0 to 1459\n",
      "Data columns (total 21 columns):\n",
      " #   Column        Non-Null Count  Dtype  \n",
      "---  ------        --------------  -----  \n",
      " 0   LotFrontage   1201 non-null   float64\n",
      " 1   HouseStyle    1460 non-null   object \n",
      " 2   FireplaceQu   770 non-null    object \n",
      " 3   LandSlope     1460 non-null   object \n",
      " 4   3SsnPorch     1460 non-null   int64  \n",
      " 5   RoofStyle     1460 non-null   object \n",
      " 6   Id            1460 non-null   int64  \n",
      " 7   BsmtFinType2  1422 non-null   object \n",
      " 8   Condition1    1460 non-null   object \n",
      " 9   MSSubClass    1460 non-null   int64  \n",
      " 10  RoofMatl      1460 non-null   object \n",
      " 11  BsmtUnfSF     1460 non-null   int64  \n",
      " 12  BldgType      1460 non-null   object \n",
      " 13  3SsnPorch     1460 non-null   int64  \n",
      " 14  Exterior2nd   1460 non-null   object \n",
      " 15  Fireplaces    1460 non-null   int64  \n",
      " 16  ExterCond     1460 non-null   object \n",
      " 17  LandContour   1460 non-null   object \n",
      " 18  BsmtFinType2  1422 non-null   object \n",
      " 19  Functional    1460 non-null   object \n",
      " 20  SalePrice     1460 non-null   int64  \n",
      "dtypes: float64(1), int64(7), object(13)\n",
      "memory usage: 239.7+ KB\n"
     ]
    }
   ],
   "source": [
    "miembros = {'Victor':100 , 'Paola':100}\n",
    "\n",
    "#Generadno las semillas para numpy y para random\n",
    "np.random.seed(sum(miembros.values()))\n",
    "random.seed(sum(miembros.values()))\n",
    "\n",
    "#seleccionando las columnas para el proyecto. No es seleccion por análisis. Es Random.\n",
    "columnas_para_proyecto = random.choices(  list(df[1:80]) , k = 20)\n",
    "df = df[columnas_para_proyecto + ['SalePrice']]\n",
    "df.info()\n"
   ]
  },
  {
   "cell_type": "markdown",
   "id": "b6282984-a512-4282-a57a-17c121ee5e68",
   "metadata": {},
   "source": [
    "Columnas Selccionadas "
   ]
  },
  {
   "cell_type": "markdown",
   "id": "3146f1ad-45a7-49cd-bb54-3c2074525a28",
   "metadata": {},
   "source": [
    "3.- Exploración de Datos"
   ]
  },
  {
   "cell_type": "code",
   "execution_count": 44,
   "id": "1531374c-abb7-4ecd-990d-11970d3ca399",
   "metadata": {},
   "outputs": [
    {
     "data": {
      "text/plain": [
       "(1460, 21)"
      ]
     },
     "execution_count": 44,
     "metadata": {},
     "output_type": "execute_result"
    }
   ],
   "source": [
    "df.shape\n",
    "#df.head()\n",
    "\n"
   ]
  },
  {
   "cell_type": "markdown",
   "id": "c54308e1-de68-436e-8d52-1c6de07ca233",
   "metadata": {},
   "source": []
  },
  {
   "cell_type": "code",
   "execution_count": null,
   "id": "640a5364-ce43-4eb0-9001-3fc0edcb794c",
   "metadata": {},
   "outputs": [],
   "source": []
  }
 ],
 "metadata": {
  "kernelspec": {
   "display_name": "Python 3 (ipykernel)",
   "language": "python",
   "name": "python3"
  },
  "language_info": {
   "codemirror_mode": {
    "name": "ipython",
    "version": 3
   },
   "file_extension": ".py",
   "mimetype": "text/x-python",
   "name": "python",
   "nbconvert_exporter": "python",
   "pygments_lexer": "ipython3",
   "version": "3.11.8"
  }
 },
 "nbformat": 4,
 "nbformat_minor": 5
}
